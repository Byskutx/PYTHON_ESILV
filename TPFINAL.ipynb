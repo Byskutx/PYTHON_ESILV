{
  "cells": [
    {
      "cell_type": "markdown",
      "metadata": {
        "id": "view-in-github",
        "colab_type": "text"
      },
      "source": [
        "<a href=\"https://colab.research.google.com/github/Byskutx/PYTHON_ESILV/blob/main/TPFINAL.ipynb\" target=\"_parent\"><img src=\"https://colab.research.google.com/assets/colab-badge.svg\" alt=\"Open In Colab\"/></a>"
      ]
    },
    {
      "cell_type": "markdown",
      "metadata": {
        "id": "0jGsIHXljMCB"
      },
      "source": []
    },
    {
      "cell_type": "markdown",
      "metadata": {
        "id": "MngvAHu-ki4E"
      },
      "source": []
    },
    {
      "cell_type": "markdown",
      "metadata": {
        "id": "9P3bLg8ekj3s"
      },
      "source": [
        "# ------------------------\n",
        "# Titre : Analyse des Données DVF\n",
        "# Auteur : Ethan Binisti, Yasser Bouisk, Bard Bouchabchoub\n",
        "# Date : 28 janvier 2024\n",
        "# ------------------------\n",
        "Ce notebook vise à effectuer une analyse approfondie des données DVF (Demandes de valeurs foncières). Nous allons charger les données, les nettoyer, effectuer une analyse statistique de base, et créer une visualisation. Ensuite, nous intégrerons cette visualisation dans un projet Django pour créer une vitrine dynamique."
      ]
    },
    {
      "cell_type": "markdown",
      "metadata": {
        "id": "VKzgnlRIjNvS"
      },
      "source": [
        "##Importation des modules"
      ]
    },
    {
      "cell_type": "code",
      "execution_count": null,
      "metadata": {
        "id": "1FzftBXAjRDq"
      },
      "outputs": [],
      "source": [
        "import pandas as pd\n",
        "import numpy as np\n",
        "import matplotlib.pyplot as plt\n",
        "import seaborn as sns"
      ]
    },
    {
      "cell_type": "markdown",
      "metadata": {
        "id": "M7AZ2e4gjTzs"
      },
      "source": [
        "##Importer les données"
      ]
    },
    {
      "cell_type": "code",
      "execution_count": null,
      "metadata": {
        "id": "VoqfOhFcjX_S"
      },
      "outputs": [],
      "source": [
        "url2023 = \"https://static.data.gouv.fr/resources/demandes-de-valeurs-foncieres/20231010-093302/valeursfoncieres-2023.txt\"\n",
        "df = pd.read_csv(url2023, sep=\"|\")"
      ]
    },
    {
      "cell_type": "markdown",
      "metadata": {
        "id": "5Ze8FMwilkab"
      },
      "source": [
        "##Affichage des 10 premières lignes du DataFrame pour comprendre la structure des données\n"
      ]
    },
    {
      "cell_type": "code",
      "execution_count": null,
      "metadata": {
        "id": "LZrrtBgalmWg"
      },
      "outputs": [],
      "source": [
        "type(df)\n",
        "df.head(10)"
      ]
    },
    {
      "cell_type": "markdown",
      "source": [
        "##Vérification du taux des données manquantes dans la data"
      ],
      "metadata": {
        "id": "FlfZbOi_-z7s"
      }
    },
    {
      "cell_type": "code",
      "source": [
        "df.isnull().sum()/len(df)*100"
      ],
      "metadata": {
        "id": "BdIoapmO0sOt"
      },
      "execution_count": null,
      "outputs": []
    },
    {
      "cell_type": "code",
      "source": [
        "df = df.drop(['Identifiant de document', '1 Articles CGI', '2 Articles CGI', '3 Articles CGI', '4 Articles CGI', '5 Articles CGI', 'B/T/Q', 'Prefixe de section', 'No Volume', '1er lot', 'Surface Carrez du 1er lot', '2eme lot', 'Surface Carrez du 2eme lot', '3eme lot', 'Surface Carrez du 3eme lot', '4eme lot', 'Surface Carrez du 4eme lot', '5eme lot', 'Surface Carrez du 5eme lot', 'Identifiant local', 'Nature culture speciale'], axis=1)"
      ],
      "metadata": {
        "id": "xnK-l1-31O_a"
      },
      "execution_count": null,
      "outputs": []
    },
    {
      "cell_type": "markdown",
      "source": [
        "Ici, nous constatons que la base brute contient beaucoup de variables qui ont un taux de plus de 90% des données manquantes. Donc, pour ces variables, nous avons exclué dans notre jeu de données.\n",
        "Pour les autres variables qui ont un taux de moins de 40%, nous les gardons."
      ],
      "metadata": {
        "id": "v_CNBq9m_Ooy"
      }
    },
    {
      "cell_type": "markdown",
      "source": [
        "##Distributions de fonctionnalités numériques"
      ],
      "metadata": {
        "id": "h2hpmR9UDwT1"
      }
    },
    {
      "cell_type": "code",
      "source": [
        "df.hist(figsize=(16,16), xrot=-45)\n",
        "plt.show()"
      ],
      "metadata": {
        "id": "jjLxqaoYC4Bh"
      },
      "execution_count": null,
      "outputs": []
    },
    {
      "cell_type": "markdown",
      "source": [
        "##Quel est le nombre de lignes des données"
      ],
      "metadata": {
        "id": "fQrzqYYI17iH"
      }
    },
    {
      "cell_type": "code",
      "source": [
        "df.shape[0]"
      ],
      "metadata": {
        "id": "ZFKN2TOX1-3l"
      },
      "execution_count": null,
      "outputs": []
    },
    {
      "cell_type": "markdown",
      "source": [
        "##Quel est le nombre de colonnes des données"
      ],
      "metadata": {
        "id": "tVhrl56e2FH3"
      }
    },
    {
      "cell_type": "code",
      "source": [
        "df.shape[1]"
      ],
      "metadata": {
        "id": "aclQVq6m2ItY"
      },
      "execution_count": null,
      "outputs": []
    },
    {
      "cell_type": "markdown",
      "source": [
        "##Quel est le type de données"
      ],
      "metadata": {
        "id": "IzIOAUd0_Y73"
      }
    },
    {
      "cell_type": "code",
      "source": [
        "df.dtypes"
      ],
      "metadata": {
        "id": "uPiRPuGd79TC"
      },
      "execution_count": null,
      "outputs": []
    },
    {
      "cell_type": "markdown",
      "metadata": {
        "id": "sL_6E3aTloUi"
      },
      "source": [
        "##Vérification des types de données"
      ]
    },
    {
      "cell_type": "code",
      "execution_count": null,
      "metadata": {
        "id": "lP07cAwilrKZ"
      },
      "outputs": [],
      "source": [
        "df.info()"
      ]
    },
    {
      "cell_type": "markdown",
      "metadata": {
        "id": "pJdomsG3m0sT"
      },
      "source": [
        "##Afficher les noms des colonnes du DataFrame restantes"
      ]
    },
    {
      "cell_type": "code",
      "execution_count": null,
      "metadata": {
        "id": "mDn8_a7em4gS"
      },
      "outputs": [],
      "source": [
        "print(df.columns)"
      ]
    },
    {
      "cell_type": "markdown",
      "source": [
        "##Classement des types de local les plus vendus avec le prix moyens"
      ],
      "metadata": {
        "id": "qaHXFoGH4S98"
      }
    },
    {
      "cell_type": "code",
      "source": [
        "df['Valeur fonciere'] = df['Valeur fonciere'].astype(str)\n",
        "\n",
        "df['Valeur fonciere'] = pd.to_numeric(df['Valeur fonciere'].str.replace(',', '.'), errors='coerce')\n",
        "df = df.dropna(subset=['Valeur fonciere'])\n",
        "resultats = df.groupby('Type local').agg({'Valeur fonciere': ['count', 'mean']})\n",
        "resultats.columns = ['Nombre de ventes', 'Prix moyen']\n",
        "resultats['Prix moyen'] = resultats['Prix moyen'].round(0).astype(int)\n",
        "resultats = resultats.sort_values(by='Nombre de ventes', ascending=False)\n",
        "top_types_locaux = resultats.head(5)\n",
        "\n",
        "print(\"Les cinq types de locaux les plus vendus avec le nombre de ventes et le prix moyen associé :\")\n",
        "print(top_types_locaux)\n"
      ],
      "metadata": {
        "id": "fsKGUFW-39N-"
      },
      "execution_count": null,
      "outputs": []
    },
    {
      "cell_type": "markdown",
      "source": [
        "##Surface moyen d'un local"
      ],
      "metadata": {
        "id": "XxUDmlvA5tTW"
      }
    },
    {
      "cell_type": "code",
      "source": [
        "df['Surface reelle bati'] = pd.to_numeric(df['Surface reelle bati'], errors='coerce')\n",
        "surface_moyenne = df['Surface reelle bati'].mean()\n",
        "\n",
        "print(f\"La surface moyenne d'un local est : {surface_moyenne:.2f} m²\")\n"
      ],
      "metadata": {
        "id": "Dsnv9Jrs5ytW"
      },
      "execution_count": null,
      "outputs": []
    },
    {
      "cell_type": "markdown",
      "source": [
        "##Nombre de pièces moyennes par local\n",
        "\n",
        "\n"
      ],
      "metadata": {
        "id": "biOxCtw-6hwY"
      }
    },
    {
      "cell_type": "code",
      "source": [
        "df['Nombre pieces principales'] = pd.to_numeric(df['Nombre pieces principales'], errors='coerce')\n",
        "moyenne_pieces_par_local = df.groupby('Type local')['Nombre pieces principales'].mean()\n",
        "\n",
        "print(\"Nombre moyen de pièces principales par type de local :\")\n",
        "print(moyenne_pieces_par_local)\n"
      ],
      "metadata": {
        "id": "jgQ9ynFG6mCj"
      },
      "execution_count": null,
      "outputs": []
    },
    {
      "cell_type": "markdown",
      "source": [
        "##Répartition de la variable type local"
      ],
      "metadata": {
        "id": "-YOkSDozAEXZ"
      }
    },
    {
      "cell_type": "code",
      "source": [
        "df['Type local'].value_counts(dropna = False, normalize = True).head()"
      ],
      "metadata": {
        "id": "wI0HCn_C-CL9"
      },
      "execution_count": null,
      "outputs": []
    },
    {
      "cell_type": "code",
      "source": [
        "plt.figure(figsize=(8,6))\n",
        "plt.title('Type de terrain',fontsize=\"16\")\n",
        "sns.countplot(y='Type local', data=df)"
      ],
      "metadata": {
        "id": "p7yY_HxJD8O_"
      },
      "execution_count": null,
      "outputs": []
    },
    {
      "cell_type": "code",
      "source": [
        "plt.figure(figsize=(10,10))\n",
        "labels = ['Donées Manquantes', 'Maison', 'Appartement', 'Dépendance', 'Local industriel. commercial ou assimilé']\n",
        "colors = ['#ff9999','#66b3ff','#99ff99','#ffcc99','#fffc52']\n",
        "area = [40, 16, 14, 26, 0.3]\n",
        "explode = (0.05,0.05,0.1,0.1,0.1)\n",
        "plt.pie(area, labels=labels, explode=explode, colors= colors, startangle=65, autopct='%1.1f%%',shadow='True')\n",
        "plt.title(label= 'Répartition de la variable Type local')\n",
        "plt.legend()\n",
        "plt.show()"
      ],
      "metadata": {
        "id": "GLdAzZiP4YFN"
      },
      "execution_count": null,
      "outputs": []
    },
    {
      "cell_type": "markdown",
      "source": [
        "##Répartition de la variable nature mutation"
      ],
      "metadata": {
        "id": "3D7ywCi8AmCq"
      }
    },
    {
      "cell_type": "code",
      "source": [
        "df['Nature mutation'].value_counts(dropna = False, normalize = True).head()"
      ],
      "metadata": {
        "id": "eAO-UBvS5vMM"
      },
      "execution_count": null,
      "outputs": []
    },
    {
      "cell_type": "code",
      "source": [
        "plt.figure(figsize=(8,6))\n",
        "plt.title('Nature Mutation',fontsize=\"16\")\n",
        "sns.countplot(y='Nature mutation', data=df)"
      ],
      "metadata": {
        "id": "gh-WkmCrEQ5k"
      },
      "execution_count": null,
      "outputs": []
    },
    {
      "cell_type": "code",
      "source": [
        "plt.figure(figsize=(10,10))\n",
        "labels = ['Vente', 'VEFA', 'Echange', 'Vente Terrain', 'Adjudication']\n",
        "colors = ['#ff9999','#66b3ff','#99ff99','#ffcc99','#fffc52']\n",
        "area = [94, 4.1, 1.0, 0.28, 0.89]\n",
        "explode = (0.05,0.05,0.2,0.3,0.4)\n",
        "plt.pie(area, labels=labels, explode=explode, colors= colors, startangle=65, autopct='%1.1f%%',shadow='True')\n",
        "plt.legend()\n",
        "plt.show()"
      ],
      "metadata": {
        "id": "XlIGstcBAOhf"
      },
      "execution_count": null,
      "outputs": []
    },
    {
      "cell_type": "code",
      "source": [
        "import scipy\n",
        "from scipy.stats import norm\n",
        "y = np.log(df['Valeur fonciere'])\n",
        "sns.distplot(y, fit=norm);\n",
        "fig = plt.figure()"
      ],
      "metadata": {
        "id": "F9KYGX6_7Z_n"
      },
      "execution_count": null,
      "outputs": []
    },
    {
      "cell_type": "markdown",
      "source": [
        "##Classement des 10 codes postals avec le plus de vente de propriétées"
      ],
      "metadata": {
        "id": "vn_wPRGIDBCw"
      }
    },
    {
      "cell_type": "code",
      "source": [
        "df['Code postal'] = df['Code postal'].astype(str)\n",
        "df['Valeur fonciere'] = df['Valeur fonciere'].astype(str)\n",
        "df['Valeur fonciere'] = pd.to_numeric(df['Valeur fonciere'].str.replace(',', '.'), errors='coerce')\n",
        "df = df.dropna(subset=['Valeur fonciere'])\n",
        "resultats = df.groupby('Code postal').agg({'Valeur fonciere': ['count', 'mean']})\n",
        "resultats.columns = ['Nombre de ventes', 'Prix moyen']\n",
        "resultats['Prix moyen'] = resultats['Prix moyen'].round(0).astype(int)\n",
        "resultats = resultats.sort_values(by='Nombre de ventes', ascending=False)\n",
        "top_codes_postaux = resultats.head(10)\n",
        "print(\"Les 10 codes postaux avec le plus grand nombre de ventes et le prix moyen associé :\")\n",
        "print(top_codes_postaux)"
      ],
      "metadata": {
        "id": "1BvC3VbqBo57"
      },
      "execution_count": null,
      "outputs": []
    },
    {
      "cell_type": "markdown",
      "source": [
        "##Les 10 codes postaux avec le prix moyen le plus haut de France"
      ],
      "metadata": {
        "id": "_lUQA9iaIgdY"
      }
    },
    {
      "cell_type": "code",
      "source": [
        "df['Code postal'] = df['Code postal'].astype(str)\n",
        "df['Valeur fonciere'] = df['Valeur fonciere'].astype(str)\n",
        "df['Valeur fonciere'] = pd.to_numeric(df['Valeur fonciere'].str.replace(',', '.'), errors='coerce')\n",
        "df = df.dropna(subset=['Valeur fonciere'])\n",
        "resultats = df.groupby('Code postal').agg({'Valeur fonciere': ['count', 'mean']})\n",
        "resultats.columns = ['Nombre de ventes', 'Prix moyen']\n",
        "resultats['Prix moyen'] = resultats['Prix moyen'].round(0).astype(int)\n",
        "resultats = resultats.sort_values(by='Prix moyen', ascending=False)\n",
        "top_codes_postaux = resultats.head(10)\n",
        "print(\"Les 10 codes postaux avec le prix moyen le plus haut de France et le nombre de ventes associé :\")\n",
        "print(top_codes_postaux)"
      ],
      "metadata": {
        "id": "khlAgfEuIICl"
      },
      "execution_count": null,
      "outputs": []
    },
    {
      "cell_type": "markdown",
      "metadata": {
        "id": "00TTix9fjlwl"
      },
      "source": [
        "##Évolution de la Valeur Foncière au fil du temps"
      ]
    },
    {
      "cell_type": "code",
      "execution_count": null,
      "metadata": {
        "id": "Hg4mzflrjpSe"
      },
      "outputs": [],
      "source": [
        "plt.figure(figsize=(12, 6))\n",
        "plt.hist(df['Date mutation'], bins=100, edgecolor='black', alpha=1, label='Date mutation')\n",
        "plt.xlabel('Date mutation')\n",
        "plt.ylabel('Valeur fonciere')\n",
        "plt.title('Évolution de la Valeur Foncière au fil du temps')\n",
        "plt.legend()\n",
        "plt.show()"
      ]
    },
    {
      "cell_type": "code",
      "source": [
        "\n",
        "\n",
        "# Choisissez deux variables parmi celles que vous avez listées\n",
        "variable_x = 'Surface reelle bati'\n",
        "variable_y = 'Valeur fonciere'\n",
        "\n",
        "# Assurez-vous que les colonnes sélectionnées ne contiennent pas de valeurs manquantes\n",
        "df_cleaned = df[[variable_x, variable_y]].dropna()\n",
        "\n",
        "# Créez un histogramme bidimensionnel\n",
        "plt.figure(figsize=(10, 6))\n",
        "plt.hist2d(df_cleaned[variable_x], df_cleaned[variable_y], bins=(50, 50), cmap='Blues')\n",
        "plt.colorbar(label='Fréquence')\n",
        "plt.xlabel(variable_x)\n",
        "plt.ylabel(variable_y)\n",
        "plt.title(f'Histogramme bidimensionnel de {variable_x} par rapport à {variable_y}')\n",
        "plt.show()\n"
      ],
      "metadata": {
        "id": "v9kzlEZo2yls"
      },
      "execution_count": null,
      "outputs": []
    },
    {
      "cell_type": "code",
      "source": [
        "plt.figure(figsize=(12, 6))\n",
        "sns.scatterplot(data=df, x='Nombre de lots', y='Valeur fonciere', alpha=0.7, color='skyblue')\n",
        "plt.title('Nuage de points entre Nombre de lots et Valeur fonciere')\n",
        "plt.xlabel('Nombre de lots')\n",
        "plt.ylabel('Valeur fonciere')\n",
        "plt.show()"
      ],
      "metadata": {
        "id": "ZgtVhZm0y5wG"
      },
      "execution_count": null,
      "outputs": []
    },
    {
      "cell_type": "code",
      "source": [
        "plt.title('Type local par surface terrestre',fontsize=\"16\")\n",
        "sns.boxplot(y='Type local', x='Surface terrain', data=df)"
      ],
      "metadata": {
        "id": "sMioJGOMzYBE"
      },
      "execution_count": null,
      "outputs": []
    },
    {
      "cell_type": "code",
      "source": [
        "url2022 = \"https://static.data.gouv.fr/resources/demandes-de-valeurs-foncieres/20231010-093059/valeursfoncieres-2022.txt\"\n",
        "df_2022 = pd.read_csv(url2022, sep=\"|\")\n",
        "\n",
        "url2021 = \"https://static.data.gouv.fr/resources/demandes-de-valeurs-foncieres/20231010-092719/valeursfoncieres-2021.txt\"\n",
        "df_2021 = pd.read_csv(url2021, sep=\"|\")\n",
        "\n",
        "url2020 = \"https://static.data.gouv.fr/resources/demandes-de-valeurs-foncieres/20231010-092355/valeursfoncieres-2020.txt\"\n",
        "df_2020 = pd.read_csv(url2020, sep=\"|\")\n",
        "\n",
        "url2019 = \"https://static.data.gouv.fr/resources/demandes-de-valeurs-foncieres/20231010-092100/valeursfoncieres-2019.txt\"\n",
        "df_2019 = pd.read_csv(url2019, sep=\"|\")\n",
        "\n",
        "\n",
        "\n",
        "\n",
        "\n",
        "dfs = [df_2022, df, df_2021, df_2020, df_2019]\n",
        "df_combined = pd.concat(dfs)\n",
        "df_combined['Valeur fonciere'] = pd.to_numeric(df_combined['Valeur fonciere'], errors='coerce')\n",
        "df_combined['Date mutation'] = pd.to_datetime(df_combined['Date mutation'])\n",
        "pv = pd.pivot_table(df_combined, index=df_combined['Date mutation'].month,\n",
        "                    columns=df_combined['Date mutation'].year, values='Valeur fonciere', aggfunc='sum')\n",
        "pv.plot(marker='o', figsize=(10, 6))\n",
        "plt.title('Land Value by Month for Different Years')\n",
        "plt.xlabel('Month')\n",
        "plt.ylabel('Total Land Value')\n",
        "plt.legend(title='Year', bbox_to_anchor=(1.05, 1), loc='upper left')\n",
        "plt.show()"
      ],
      "metadata": {
        "id": "M-zCaccHHAwX"
      },
      "execution_count": null,
      "outputs": []
    }
  ],
  "metadata": {
    "colab": {
      "provenance": [],
      "include_colab_link": true
    },
    "kernelspec": {
      "display_name": "Python 3",
      "name": "python3"
    },
    "language_info": {
      "name": "python"
    }
  },
  "nbformat": 4,
  "nbformat_minor": 0
}